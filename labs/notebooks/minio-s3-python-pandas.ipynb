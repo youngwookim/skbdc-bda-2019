{
 "cells": [
  {
   "cell_type": "markdown",
   "metadata": {},
   "source": [
    "# Install awscli:\n",
    "```bash\n",
    "$ pip install awscli\n",
    "\n",
    "$ aws configure\n",
    "AWS Access Key ID [None]: V42FCGRVMK24JJ8DHUYG\n",
    "AWS Secret Access Key [None]: bKhWxVF3kQoLY9kFmt91l+tDrEoZjqnWXzY9Eza\n",
    "Default region name [None]:\n",
    "Default output format [None]:\n",
    "\n",
    "$ cat ~/.aws/credentials\n",
    "[default]\n",
    "aws_access_key_id = V42FCGRVMK24JJ8DHUYG\n",
    "aws_secret_access_key = bKhWxVF3kQoLY9kFmt91l+tDrEoZjqnWXzY9Eza\n",
    "```\n",
    "\n",
    "# How to use `boto3`\n",
    "Sample as to how to initialize s3 client to work with Minio API compatible - https://github.com/minio/minio\n",
    "AWS CLI counterpart - https://docs.minio.io/docs/aws-cli-with-minio\n",
    "\n",
    "```python\n",
    "import boto3\n",
    "\n",
    "s3 = boto3.resource('s3', \n",
    "  endpoint_url='http://MINIO_HOST_NAME:9000', \n",
    "  config=boto3.session.Config(signature_version='s3v4')\n",
    ")\n",
    "```\n",
    "\n",
    "# Refs.\n",
    "1. https://pandas.pydata.org/pandas-docs/stable/reference/api/pandas.DataFrame.html\n"
   ]
  },
  {
   "cell_type": "code",
   "execution_count": 7,
   "metadata": {},
   "outputs": [],
   "source": [
    "import boto3\n",
    "import pandas as pd\n",
    "from io import StringIO\n",
    "\n",
    "s3 = boto3.resource('s3', \n",
    "  endpoint_url='http://minio:9000', \n",
    "  config=boto3.session.Config(signature_version='s3v4')\n",
    ")"
   ]
  },
  {
   "cell_type": "code",
   "execution_count": 8,
   "metadata": {},
   "outputs": [
    {
     "name": "stdout",
     "output_type": "stream",
     "text": [
      "customer-data-json\n",
      "customer-data-text\n",
      "data\n",
      "flink\n",
      "iextrading\n",
      "test\n",
      "warehouse\n"
     ]
    }
   ],
   "source": [
    "# Print out bucket names\n",
    "for bucket in s3.buckets.all():\n",
    "    print(bucket.name)"
   ]
  },
  {
   "cell_type": "code",
   "execution_count": 9,
   "metadata": {},
   "outputs": [],
   "source": [
    "bucket_name = 'test'\n",
    "object_key = 'wordcount/output'\n",
    "\n",
    "obj = s3.Object(bucket_name, object_key)\n",
    "csv = obj.get()['Body'].read().decode('utf-8')\n"
   ]
  },
  {
   "cell_type": "code",
   "execution_count": 10,
   "metadata": {},
   "outputs": [
    {
     "data": {
      "text/html": [
       "<div>\n",
       "<style scoped>\n",
       "    .dataframe tbody tr th:only-of-type {\n",
       "        vertical-align: middle;\n",
       "    }\n",
       "\n",
       "    .dataframe tbody tr th {\n",
       "        vertical-align: top;\n",
       "    }\n",
       "\n",
       "    .dataframe thead th {\n",
       "        text-align: right;\n",
       "    }\n",
       "</style>\n",
       "<table border=\"1\" class=\"dataframe\">\n",
       "  <thead>\n",
       "    <tr style=\"text-align: right;\">\n",
       "      <th></th>\n",
       "      <th>word</th>\n",
       "      <th>count</th>\n",
       "    </tr>\n",
       "  </thead>\n",
       "  <tbody>\n",
       "    <tr>\n",
       "      <th>26665</th>\n",
       "      <td>the</td>\n",
       "      <td>15086</td>\n",
       "    </tr>\n",
       "    <tr>\n",
       "      <th>18579</th>\n",
       "      <td>of</td>\n",
       "      <td>8262</td>\n",
       "    </tr>\n",
       "    <tr>\n",
       "      <th>1679</th>\n",
       "      <td>and</td>\n",
       "      <td>7278</td>\n",
       "    </tr>\n",
       "    <tr>\n",
       "      <th>876</th>\n",
       "      <td>a</td>\n",
       "      <td>6567</td>\n",
       "    </tr>\n",
       "    <tr>\n",
       "      <th>27049</th>\n",
       "      <td>to</td>\n",
       "      <td>5035</td>\n",
       "    </tr>\n",
       "    <tr>\n",
       "      <th>13814</th>\n",
       "      <td>in</td>\n",
       "      <td>4991</td>\n",
       "    </tr>\n",
       "    <tr>\n",
       "      <th>12688</th>\n",
       "      <td>he</td>\n",
       "      <td>4221</td>\n",
       "    </tr>\n",
       "    <tr>\n",
       "      <th>13053</th>\n",
       "      <td>his</td>\n",
       "      <td>3328</td>\n",
       "    </tr>\n",
       "    <tr>\n",
       "      <th>13565</th>\n",
       "      <td>i</td>\n",
       "      <td>2989</td>\n",
       "    </tr>\n",
       "    <tr>\n",
       "      <th>22898</th>\n",
       "      <td>s</td>\n",
       "      <td>2839</td>\n",
       "    </tr>\n",
       "  </tbody>\n",
       "</table>\n",
       "</div>"
      ],
      "text/plain": [
       "      word  count\n",
       "26665  the  15086\n",
       "18579   of   8262\n",
       "1679   and   7278\n",
       "876      a   6567\n",
       "27049   to   5035\n",
       "13814   in   4991\n",
       "12688   he   4221\n",
       "13053  his   3328\n",
       "13565    i   2989\n",
       "22898    s   2839"
      ]
     },
     "execution_count": 10,
     "metadata": {},
     "output_type": "execute_result"
    }
   ],
   "source": [
    "df = pd.read_csv(StringIO(csv), header=None, delimiter=' ')\n",
    "df.columns = ['word', 'count']\n",
    "df[\"count\"] = pd.to_numeric(df[\"count\"])\n",
    "df.dtypes\n",
    "\n",
    "sorted = df.sort_values(by=['count'], ascending=False)\n",
    "\n",
    "sorted.head(10)"
   ]
  },
  {
   "cell_type": "code",
   "execution_count": null,
   "metadata": {},
   "outputs": [],
   "source": []
  }
 ],
 "metadata": {
  "kernelspec": {
   "display_name": "Python 3",
   "language": "python",
   "name": "python3"
  },
  "language_info": {
   "codemirror_mode": {
    "name": "ipython",
    "version": 3
   },
   "file_extension": ".py",
   "mimetype": "text/x-python",
   "name": "python",
   "nbconvert_exporter": "python",
   "pygments_lexer": "ipython3",
   "version": "3.7.3"
  }
 },
 "nbformat": 4,
 "nbformat_minor": 2
}

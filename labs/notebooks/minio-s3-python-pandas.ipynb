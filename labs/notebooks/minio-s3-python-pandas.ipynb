{
 "cells": [
  {
   "cell_type": "markdown",
   "metadata": {},
   "source": [
    "# Install awscli:\n",
    "```bash\n",
    "$ pip install awscli\n",
    "\n",
    "$ aws configure\n",
    "AWS Access Key ID [None]: V42FCGRVMK24JJ8DHUYG\n",
    "AWS Secret Access Key [None]: bKhWxVF3kQoLY9kFmt91l+tDrEoZjqnWXzY9Eza\n",
    "Default region name [None]:\n",
    "Default output format [None]:\n",
    "\n",
    "$ cat ~/.aws/credentials\n",
    "[default]\n",
    "aws_access_key_id = V42FCGRVMK24JJ8DHUYG\n",
    "aws_secret_access_key = bKhWxVF3kQoLY9kFmt91l+tDrEoZjqnWXzY9Eza\n",
    "```\n",
    "\n",
    "# How to use `boto3`\n",
    "Sample as to how to initialize s3 client to work with Minio API compatible - https://github.com/minio/minio\n",
    "AWS CLI counterpart - https://docs.minio.io/docs/aws-cli-with-minio\n",
    "\n",
    "```python\n",
    "import boto3\n",
    "\n",
    "s3 = boto3.resource('s3', \n",
    "  endpoint_url='http://MINIO_HOST_NAME:9000', \n",
    "  config=boto3.session.Config(signature_version='s3v4')\n",
    ")\n",
    "```\n",
    "\n",
    "# Refs.\n",
    "1. https://pandas.pydata.org/pandas-docs/stable/reference/api/pandas.DataFrame.html\n"
   ]
  },
  {
   "cell_type": "code",
   "execution_count": 14,
   "metadata": {},
   "outputs": [],
   "source": [
    "import boto3\n",
    "import pandas as pd\n",
    "from io import StringIO\n",
    "\n",
    "s3 = boto3.resource('s3', \n",
    "  endpoint_url='http://minio:9000', \n",
    "  config=boto3.session.Config(signature_version='s3v4')\n",
    ")"
   ]
  },
  {
   "cell_type": "code",
   "execution_count": 15,
   "metadata": {},
   "outputs": [
    {
     "name": "stdout",
     "output_type": "stream",
     "text": [
      "customer-data-json\n",
      "customer-data-text\n",
      "data\n",
      "flink\n",
      "iextrading\n",
      "test\n",
      "test1\n",
      "test2\n",
      "warehouse\n"
     ]
    }
   ],
   "source": [
    "# Print out bucket names\n",
    "for bucket in s3.buckets.all():\n",
    "    print(bucket.name)"
   ]
  },
  {
   "cell_type": "code",
   "execution_count": 16,
   "metadata": {},
   "outputs": [],
   "source": [
    "bucket_name = 'test'\n",
    "object_key = 'wordcount/output'\n",
    "\n",
    "obj = s3.Object(bucket_name, object_key)\n",
    "csv = obj.get()['Body'].read().decode('utf-8')\n"
   ]
  },
  {
   "cell_type": "code",
   "execution_count": 17,
   "metadata": {},
   "outputs": [],
   "source": [
    "df = pd.read_csv(StringIO(csv), header=None, delimiter=' ')\n",
    "df.columns = ['word', 'count']\n",
    "df[\"count\"] = pd.to_numeric(df[\"count\"])\n",
    "df.dtypes\n",
    "\n",
    "sorted = df.sort_values(by=['count'], ascending=False)\n",
    "\n",
    "sorted.head(10)\n",
    "\n",
    "x = sorted.head(10)"
   ]
  },
  {
   "cell_type": "markdown",
   "metadata": {},
   "source": [
    "## 차트를 그려볼까?\n",
    "*왜? 뭔가 보이면 좋아요*"
   ]
  },
  {
   "cell_type": "code",
   "execution_count": 18,
   "metadata": {},
   "outputs": [
    {
     "data": {
      "text/html": [
       "\n",
       "\n",
       "\n",
       "\n",
       "\n",
       "\n",
       "  <div class=\"bk-root\" id=\"aa95ecf8-ea00-4c61-bc9d-04a7e6bcdeef\" data-root-id=\"1317\"></div>\n"
      ]
     },
     "metadata": {},
     "output_type": "display_data"
    },
    {
     "data": {
      "application/javascript": [
       "(function(root) {\n",
       "  function embed_document(root) {\n",
       "    \n",
       "  var docs_json = {\"da8b67b7-95c0-4fc6-a2dd-088163b6a6c4\":{\"roots\":{\"references\":[{\"attributes\":{\"above\":[{\"id\":\"1342\",\"type\":\"Title\"}],\"background_fill_color\":{\"value\":\"white\"},\"below\":[{\"id\":\"1326\",\"type\":\"CategoricalAxis\"},{\"id\":\"1341\",\"type\":\"Label\"}],\"border_fill_color\":{\"value\":\"white\"},\"left\":[{\"id\":\"1330\",\"type\":\"LinearAxis\"}],\"min_border_bottom\":60,\"min_border_left\":60,\"min_border_right\":60,\"min_border_top\":40,\"outline_line_color\":{\"value\":\"white\"},\"plot_height\":540,\"plot_width\":960,\"renderers\":[{\"id\":\"1326\",\"type\":\"CategoricalAxis\"},{\"id\":\"1329\",\"type\":\"Grid\"},{\"id\":\"1330\",\"type\":\"LinearAxis\"},{\"id\":\"1334\",\"type\":\"Grid\"},{\"id\":\"1341\",\"type\":\"Label\"},{\"id\":\"1342\",\"type\":\"Title\"},{\"id\":\"1352\",\"type\":\"GlyphRenderer\"}],\"title\":{\"id\":\"1338\",\"type\":\"Title\"},\"toolbar\":{\"id\":\"1336\",\"type\":\"Toolbar\"},\"x_range\":{\"id\":\"1318\",\"type\":\"FactorRange\"},\"x_scale\":{\"id\":\"1322\",\"type\":\"CategoricalScale\"},\"y_range\":{\"id\":\"1320\",\"type\":\"DataRange1d\"},\"y_scale\":{\"id\":\"1324\",\"type\":\"LinearScale\"}},\"id\":\"1317\",\"subtype\":\"Figure\",\"type\":\"Plot\"},{\"attributes\":{},\"id\":\"1327\",\"type\":\"CategoricalTicker\"},{\"attributes\":{\"callback\":null,\"data\":{\"count\":[15086,8262,7278,6567,5035,4991,4221,3328,2989,2839],\"factors\":[\"the\",\"of\",\"and\",\"a\",\"to\",\"in\",\"he\",\"his\",\"i\",\"s\"],\"index\":[0,1,2,3,4,5,6,7,8,9]},\"name\":\"Series:\",\"selected\":{\"id\":\"1380\",\"type\":\"Selection\"},\"selection_policy\":{\"id\":\"1381\",\"type\":\"UnionRenderers\"}},\"id\":\"1346\",\"type\":\"ColumnDataSource\"},{\"attributes\":{\"dimension\":1,\"grid_line_color\":{\"value\":null},\"plot\":{\"id\":\"1317\",\"subtype\":\"Figure\",\"type\":\"Plot\"},\"ticker\":{\"id\":\"1331\",\"type\":\"BasicTicker\"}},\"id\":\"1334\",\"type\":\"Grid\"},{\"attributes\":{\"data_source\":{\"id\":\"1346\",\"type\":\"ColumnDataSource\"},\"glyph\":{\"id\":\"1350\",\"type\":\"VBar\"},\"hover_glyph\":null,\"muted_glyph\":null,\"nonselection_glyph\":{\"id\":\"1351\",\"type\":\"VBar\"},\"selection_glyph\":null,\"view\":{\"id\":\"1353\",\"type\":\"CDSView\"}},\"id\":\"1352\",\"type\":\"GlyphRenderer\"},{\"attributes\":{\"source\":{\"id\":\"1346\",\"type\":\"ColumnDataSource\"}},\"id\":\"1353\",\"type\":\"CDSView\"},{\"attributes\":{\"plot\":{\"id\":\"1317\",\"subtype\":\"Figure\",\"type\":\"Plot\"},\"text\":\"asdf...\",\"text_color\":{\"value\":\"#666666\"},\"text_font_size\":{\"value\":\"12pt\"}},\"id\":\"1342\",\"type\":\"Title\"},{\"attributes\":{},\"id\":\"1331\",\"type\":\"BasicTicker\"},{\"attributes\":{},\"id\":\"1380\",\"type\":\"Selection\"},{\"attributes\":{},\"id\":\"1381\",\"type\":\"UnionRenderers\"},{\"attributes\":{},\"id\":\"1378\",\"type\":\"CategoricalTickFormatter\"},{\"attributes\":{\"axis_label_text_color\":{\"value\":\"#666666\"},\"axis_label_text_font_size\":{\"value\":\"11pt\"},\"axis_label_text_font_style\":\"bold\",\"axis_line_color\":{\"value\":\"#C0C0C0\"},\"formatter\":{\"id\":\"1347\",\"type\":\"NumeralTickFormatter\"},\"major_label_text_color\":{\"value\":\"#898989\"},\"major_label_text_font_size\":{\"value\":\"10pt\"},\"major_tick_in\":0,\"major_tick_line_color\":{\"value\":\"#C0C0C0\"},\"major_tick_out\":4,\"minor_tick_line_color\":{\"value\":\"#C0C0C0\"},\"minor_tick_out\":1,\"plot\":{\"id\":\"1317\",\"subtype\":\"Figure\",\"type\":\"Plot\"},\"ticker\":{\"id\":\"1331\",\"type\":\"BasicTicker\"}},\"id\":\"1330\",\"type\":\"LinearAxis\"},{\"attributes\":{\"callback\":null,\"factor_padding\":0.25,\"factors\":[\"the\",\"of\",\"and\",\"a\",\"to\",\"in\",\"he\",\"his\",\"i\",\"s\"]},\"id\":\"1318\",\"type\":\"FactorRange\"},{\"attributes\":{\"callback\":null,\"end\":null,\"start\":0},\"id\":\"1320\",\"type\":\"DataRange1d\"},{\"attributes\":{\"axis_label_text_color\":{\"value\":\"#666666\"},\"axis_label_text_font_size\":{\"value\":\"11pt\"},\"axis_label_text_font_style\":\"bold\",\"axis_line_color\":{\"value\":\"#C0C0C0\"},\"formatter\":{\"id\":\"1378\",\"type\":\"CategoricalTickFormatter\"},\"group_text_font_size\":{\"value\":\"11pt\"},\"major_label_text_color\":{\"value\":\"#898989\"},\"major_label_text_font_size\":{\"value\":\"10pt\"},\"major_tick_in\":0,\"major_tick_line_color\":{\"value\":\"#C0C0C0\"},\"major_tick_out\":4,\"minor_tick_line_color\":{\"value\":\"#C0C0C0\"},\"minor_tick_out\":1,\"plot\":{\"id\":\"1317\",\"subtype\":\"Figure\",\"type\":\"Plot\"},\"separator_line_alpha\":{\"value\":0},\"subgroup_text_font_size\":{\"value\":\"11pt\"},\"ticker\":{\"id\":\"1327\",\"type\":\"CategoricalTicker\"}},\"id\":\"1326\",\"type\":\"CategoricalAxis\"},{\"attributes\":{\"grid_line_color\":{\"value\":null},\"plot\":{\"id\":\"1317\",\"subtype\":\"Figure\",\"type\":\"Plot\"},\"ticker\":{\"id\":\"1327\",\"type\":\"CategoricalTicker\"}},\"id\":\"1329\",\"type\":\"Grid\"},{\"attributes\":{\"level\":\"overlay\",\"name\":\"subtitle\",\"plot\":{\"id\":\"1317\",\"subtype\":\"Figure\",\"type\":\"Plot\"},\"text\":\"\",\"text_align\":\"right\",\"text_color\":{\"value\":\"#898989\"},\"text_font_size\":{\"value\":\"10px\"},\"x\":864.0,\"x_units\":\"screen\",\"y\":0,\"y_units\":\"screen\"},\"id\":\"1341\",\"type\":\"Label\"},{\"attributes\":{},\"id\":\"1335\",\"type\":\"SaveTool\"},{\"attributes\":{},\"id\":\"1322\",\"type\":\"CategoricalScale\"},{\"attributes\":{\"active_drag\":null,\"active_inspect\":\"auto\",\"active_multi\":null,\"active_scroll\":\"auto\",\"active_tap\":\"auto\",\"logo\":null,\"tools\":[{\"id\":\"1335\",\"type\":\"SaveTool\"}]},\"id\":\"1336\",\"type\":\"Toolbar\"},{\"attributes\":{\"format\":\"0,0.[00000]\"},\"id\":\"1347\",\"type\":\"NumeralTickFormatter\"},{\"attributes\":{\"fill_color\":{\"value\":\"#1f77b4\"},\"line_color\":{\"value\":\"white\"},\"top\":{\"field\":\"count\"},\"width\":{\"value\":0.9},\"x\":{\"field\":\"factors\"}},\"id\":\"1350\",\"type\":\"VBar\"},{\"attributes\":{\"fill_alpha\":{\"value\":0.1},\"fill_color\":{\"value\":\"#1f77b4\"},\"line_alpha\":{\"value\":0.1},\"line_color\":{\"value\":\"#1f77b4\"},\"top\":{\"field\":\"count\"},\"width\":{\"value\":0.9},\"x\":{\"field\":\"factors\"}},\"id\":\"1351\",\"type\":\"VBar\"},{\"attributes\":{},\"id\":\"1324\",\"type\":\"LinearScale\"},{\"attributes\":{\"plot\":null,\"text\":\"My bar chart\",\"text_color\":{\"value\":\"#333333\"},\"text_font_size\":{\"value\":\"18pt\"}},\"id\":\"1338\",\"type\":\"Title\"}],\"root_ids\":[\"1317\"]},\"title\":\"Bokeh Application\",\"version\":\"1.0.4\"}};\n",
       "  var render_items = [{\"docid\":\"da8b67b7-95c0-4fc6-a2dd-088163b6a6c4\",\"roots\":{\"1317\":\"aa95ecf8-ea00-4c61-bc9d-04a7e6bcdeef\"}}];\n",
       "  root.Bokeh.embed.embed_items_notebook(docs_json, render_items);\n",
       "\n",
       "  }\n",
       "  if (root.Bokeh !== undefined) {\n",
       "    embed_document(root);\n",
       "  } else {\n",
       "    var attempts = 0;\n",
       "    var timer = setInterval(function(root) {\n",
       "      if (root.Bokeh !== undefined) {\n",
       "        embed_document(root);\n",
       "        clearInterval(timer);\n",
       "      }\n",
       "      attempts++;\n",
       "      if (attempts > 100) {\n",
       "        console.log(\"Bokeh: ERROR: Unable to run BokehJS code because BokehJS library is missing\");\n",
       "        clearInterval(timer);\n",
       "      }\n",
       "    }, 10, root)\n",
       "  }\n",
       "})(window);"
      ],
      "application/vnd.bokehjs_exec.v0+json": ""
     },
     "metadata": {
      "application/vnd.bokehjs_exec.v0+json": {
       "id": "1317"
      }
     },
     "output_type": "display_data"
    }
   ],
   "source": [
    "import chartify\n",
    "\n",
    "ch = chartify.Chart(blank_labels=True, x_axis_type='categorical')\n",
    "ch.set_title(\"My bar chart\")\n",
    "ch.set_subtitle(\"asdf...\")\n",
    "ch.plot.bar(\n",
    "    data_frame=x,\n",
    "    categorical_columns='word',\n",
    "    numeric_column='count')\n",
    "ch.show()"
   ]
  },
  {
   "cell_type": "code",
   "execution_count": null,
   "metadata": {},
   "outputs": [],
   "source": []
  }
 ],
 "metadata": {
  "kernelspec": {
   "display_name": "Python 3",
   "language": "python",
   "name": "python3"
  },
  "language_info": {
   "codemirror_mode": {
    "name": "ipython",
    "version": 3
   },
   "file_extension": ".py",
   "mimetype": "text/x-python",
   "name": "python",
   "nbconvert_exporter": "python",
   "pygments_lexer": "ipython3",
   "version": "3.7.3"
  }
 },
 "nbformat": 4,
 "nbformat_minor": 2
}

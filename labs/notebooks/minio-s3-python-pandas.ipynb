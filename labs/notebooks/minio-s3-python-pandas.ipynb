{
 "cells": [
  {
   "cell_type": "markdown",
   "metadata": {},
   "source": [
    "```\n",
    "$ pip install awscli\n",
    "\n",
    "```\n",
    "\n",
    "```\n",
    "$ aws configure\n",
    "......\n",
    "\n",
    "$ cat ~/.aws/credentials\n",
    "[default]\n",
    "aws_access_key_id = V42FCGRVMK24JJ8DHUYG\n",
    "aws_secret_access_key = bKhWxVF3kQoLY9kFmt91l+tDrEoZjqnWXzY9Eza\n",
    "```\n",
    "\n",
    "Sample as to how to initialize s3 client to work with Minio API compatible - https://github.com/minio/minio\n",
    "AWS CLI counterpart - https://docs.minio.io/docs/aws-cli-with-minio\n",
    "\n",
    "```\n",
    "import boto3\n",
    "\n",
    "s3 = boto3.resource('s3', \n",
    "  endpoint_url='http://<minio_IP>:9000', \n",
    "  config=boto3.session.Config(signature_version='s3v4')\n",
    ")\n",
    "```\n",
    "\n",
    "Refs.\n",
    "1. https://pandas.pydata.org/pandas-docs/stable/reference/api/pandas.DataFrame.html\n"
   ]
  },
  {
   "cell_type": "code",
   "execution_count": 24,
   "metadata": {},
   "outputs": [],
   "source": [
    "import boto3\n",
    "import pandas as pd\n",
    "from io import StringIO\n",
    "\n",
    "s3 = boto3.resource('s3', \n",
    "  endpoint_url='http://172.16.0.68:9000', \n",
    "  config=boto3.session.Config(signature_version='s3v4')\n",
    ")"
   ]
  },
  {
   "cell_type": "code",
   "execution_count": 25,
   "metadata": {},
   "outputs": [
    {
     "name": "stdout",
     "output_type": "stream",
     "text": [
      "customer-data-json\n",
      "customer-data-text\n"
     ]
    }
   ],
   "source": [
    "# Print out bucket names\n",
    "for bucket in s3.buckets.all():\n",
    "    print(bucket.name)"
   ]
  },
  {
   "cell_type": "code",
   "execution_count": 31,
   "metadata": {},
   "outputs": [
    {
     "data": {
      "text/plain": [
       "'5,Bob,Jones\\n6,Phil,Brune\\n'"
      ]
     },
     "execution_count": 31,
     "metadata": {},
     "output_type": "execute_result"
    }
   ],
   "source": [
    "bucket_name = 'customer-data-text'\n",
    "object_key = 'customer.csv'\n",
    "\n",
    "#obj = s3.Object(bucket_name, object_key)\n",
    "#print(obj)\n",
    "\n",
    "obj = s3.Object(bucket_name, object_key)\n",
    "csv = obj.get()['Body'].read().decode('utf-8')\n",
    "csv"
   ]
  },
  {
   "cell_type": "code",
   "execution_count": 43,
   "metadata": {},
   "outputs": [
    {
     "data": {
      "text/html": [
       "<div>\n",
       "<style scoped>\n",
       "    .dataframe tbody tr th:only-of-type {\n",
       "        vertical-align: middle;\n",
       "    }\n",
       "\n",
       "    .dataframe tbody tr th {\n",
       "        vertical-align: top;\n",
       "    }\n",
       "\n",
       "    .dataframe thead th {\n",
       "        text-align: right;\n",
       "    }\n",
       "</style>\n",
       "<table border=\"1\" class=\"dataframe\">\n",
       "  <thead>\n",
       "    <tr style=\"text-align: right;\">\n",
       "      <th></th>\n",
       "      <th>0</th>\n",
       "      <th>1</th>\n",
       "      <th>2</th>\n",
       "    </tr>\n",
       "  </thead>\n",
       "  <tbody>\n",
       "    <tr>\n",
       "      <th>0</th>\n",
       "      <td>5</td>\n",
       "      <td>Bob</td>\n",
       "      <td>Jones</td>\n",
       "    </tr>\n",
       "    <tr>\n",
       "      <th>1</th>\n",
       "      <td>6</td>\n",
       "      <td>Phil</td>\n",
       "      <td>Brune</td>\n",
       "    </tr>\n",
       "  </tbody>\n",
       "</table>\n",
       "</div>"
      ],
      "text/plain": [
       "   0     1      2\n",
       "0  5   Bob  Jones\n",
       "1  6  Phil  Brune"
      ]
     },
     "execution_count": 43,
     "metadata": {},
     "output_type": "execute_result"
    }
   ],
   "source": [
    "df = pd.read_csv(StringIO(csv), header=None)\n",
    "df"
   ]
  },
  {
   "cell_type": "code",
   "execution_count": null,
   "metadata": {},
   "outputs": [],
   "source": []
  }
 ],
 "metadata": {
  "kernelspec": {
   "display_name": "Python 3",
   "language": "python",
   "name": "python3"
  },
  "language_info": {
   "codemirror_mode": {
    "name": "ipython",
    "version": 3
   },
   "file_extension": ".py",
   "mimetype": "text/x-python",
   "name": "python",
   "nbconvert_exporter": "python",
   "pygments_lexer": "ipython3",
   "version": "3.6.7"
  }
 },
 "nbformat": 4,
 "nbformat_minor": 2
}
